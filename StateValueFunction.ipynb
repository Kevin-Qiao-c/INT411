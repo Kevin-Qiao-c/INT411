{
 "cells": [
  {
   "metadata": {},
   "cell_type": "markdown",
   "source": "## Data Initialization",
   "id": "d5d8aae3c3e9f310"
  },
  {
   "cell_type": "code",
   "id": "initial_id",
   "metadata": {
    "collapsed": true,
    "ExecuteTime": {
     "end_time": "2024-11-04T02:03:02.795856Z",
     "start_time": "2024-11-04T02:03:02.790732Z"
    }
   },
   "source": [
    "# Discount factor\n",
    "gamma = 0.9"
   ],
   "outputs": [],
   "execution_count": 2
  },
  {
   "metadata": {
    "ExecuteTime": {
     "end_time": "2024-11-04T02:03:02.827456Z",
     "start_time": "2024-11-04T02:03:02.824254Z"
    }
   },
   "cell_type": "code",
   "source": [
    "# Termination condition\n",
    "termination = 1e-6"
   ],
   "id": "1d4de5e5fe2169d0",
   "outputs": [],
   "execution_count": 3
  },
  {
   "metadata": {
    "ExecuteTime": {
     "end_time": "2024-11-04T02:03:02.841318Z",
     "start_time": "2024-11-04T02:03:02.835275Z"
    }
   },
   "cell_type": "code",
   "source": [
    "# Define instant rewards\n",
    "R = {\n",
    "    'Facebook': -1,\n",
    "    'Class 1': -2,\n",
    "    'Class 2': -2,\n",
    "    'Class 3': -2,\n",
    "    'Pub': 1,\n",
    "    'Pass': 10,\n",
    "    'Sleep': 0  # Termination state\n",
    "}"
   ],
   "id": "80917a1ba8ed818",
   "outputs": [],
   "execution_count": 4
  },
  {
   "metadata": {
    "ExecuteTime": {
     "end_time": "2024-11-04T02:03:02.855060Z",
     "start_time": "2024-11-04T02:03:02.849465Z"
    }
   },
   "cell_type": "code",
   "source": [
    "# Initializes the V value, setting the initial value of all states to 0\n",
    "V = {\n",
    "    'Facebook': 0,\n",
    "    'Class 1': 0,\n",
    "    'Class 2': 0,\n",
    "    'Class 3': 0,\n",
    "    'Pub': 0,\n",
    "    'Pass': 0,\n",
    "    'Sleep': 0  # Termination state\n",
    "}"
   ],
   "id": "54ac47728a08d2d0",
   "outputs": [],
   "execution_count": 5
  },
  {
   "metadata": {},
   "cell_type": "markdown",
   "source": "## Iteration Algorithm",
   "id": "83e23e6e4a8ce496"
  },
  {
   "metadata": {
    "ExecuteTime": {
     "end_time": "2024-11-04T02:03:02.876224Z",
     "start_time": "2024-11-04T02:03:02.865138Z"
    }
   },
   "cell_type": "code",
   "source": [
    "def iteration_algorithm(V, R, gamma, termination):\n",
    "    iteration = 0\n",
    "    while True:\n",
    "        delta = 0\n",
    "        V_old = V.copy()\n",
    "\n",
    "        # Bellman equation, calculating state V\n",
    "        V['Facebook'] = R['Facebook'] + gamma * (0.9 * V_old['Facebook'] + 0.1 * V_old['Class 1'])\n",
    "        V['Class 1'] = R['Class 1'] + gamma * (0.5 * V_old['Facebook'] + 0.5 * V_old['Class 2'])\n",
    "        V['Class 2'] = R['Class 2'] + gamma * (0.2 * V_old['Sleep'] + 0.8 * V_old['Class 3'])\n",
    "        V['Class 3'] = R['Class 3'] + gamma * (0.6 * V_old['Pass'] + 0.4 * V_old['Pub'])\n",
    "        V['Pub'] = R['Pub'] + gamma * (0.2 * V_old['Class 1'] + 0.4 * V_old['Class 2'] + 0.4 * V_old['Class 3'])\n",
    "        V['Pass'] = R['Pass'] + gamma * V_old['Sleep']\n",
    "        V['Sleep'] = 0\n",
    "\n",
    "        # Calculate the change in V value delta\n",
    "        delta = max(delta, max(abs(V[state] - V_old[state]) for state in V))\n",
    "\n",
    "        iteration += 1\n",
    "        print(f'Iteration {iteration}: {V}')\n",
    "\n",
    "        # Check whether the termination condition has been met\n",
    "        if delta < termination:\n",
    "            break\n",
    "\n",
    "    return V, iteration"
   ],
   "id": "e17f90c8b2778f0b",
   "outputs": [],
   "execution_count": 6
  },
  {
   "metadata": {},
   "cell_type": "markdown",
   "source": "## Result",
   "id": "6aba3b191d61d80c"
  },
  {
   "metadata": {
    "ExecuteTime": {
     "end_time": "2024-11-04T02:03:02.894042Z",
     "start_time": "2024-11-04T02:03:02.883836Z"
    }
   },
   "cell_type": "code",
   "source": [
    "V, iterations = iteration_algorithm(V, R, gamma, termination)\n",
    "\n",
    "print('\\nFinal V:')\n",
    "for state, value in V.items():\n",
    "    print(f'V({state}) = {value}')\n",
    "print(f'\\nTotal iterations: {iterations}')"
   ],
   "id": "9dc3cb79db61242a",
   "outputs": [
    {
     "name": "stdout",
     "output_type": "stream",
     "text": [
      "Iteration 1: {'Facebook': -1.0, 'Class 1': -2.0, 'Class 2': -2.0, 'Class 3': -2.0, 'Pub': 1.0, 'Pass': 10.0, 'Sleep': 0}\n",
      "Iteration 2: {'Facebook': -1.9900000000000002, 'Class 1': -3.35, 'Class 2': -3.4400000000000004, 'Class 3': 3.7600000000000007, 'Pub': -0.8, 'Pass': 10.0, 'Sleep': 0}\n",
      "Iteration 3: {'Facebook': -2.9134, 'Class 1': -4.4435, 'Class 2': 0.7072000000000007, 'Class 3': 3.112, 'Pub': 0.5122000000000002, 'Pass': 10.0, 'Sleep': 0}\n",
      "Iteration 4: {'Facebook': -3.7597690000000004, 'Class 1': -2.99279, 'Class 2': 0.2406400000000004, 'Class 3': 3.5843920000000002, 'Pub': 1.5750820000000003, 'Pass': 10.0, 'Sleep': 0}\n",
      "Iteration 5: {'Facebook': -4.31476399, 'Class 1': -3.58360805, 'Class 2': 0.5807622400000008, 'Class 3': 3.9670295200000005, 'Pub': 1.8383093200000005, 'Pass': 10.0, 'Sleep': 0}\n",
      "Iteration 6: {'Facebook': -4.817483556400001, 'Class 1': -3.6803007875, 'Class 2': 0.8562612544000006, 'Class 3': 4.0617913552000005, 'Pub': 1.9921555846000003, 'Pass': 10.0, 'Sleep': 0}\n",
      "Iteration 7: {'Facebook': -5.233388751559001, 'Class 1': -3.7825500359, 'Class 2': 0.9244897757440005, 'Class 3': 4.117176010456001, 'Pub': 2.1080447977060004, 'Pass': 10.0, 'Sleep': 0}\n",
      "Iteration 8: {'Facebook': -5.5794743919937915, 'Class 1': -3.939004539116751, 'Class 2': 0.9643667275283208, 'Class 3': 4.1588961271741605, 'Pub': 2.1341406765700004, 'Pass': 10.0, 'Sleep': 0}\n",
      "Iteration 9: {'Facebook': -5.873884666035479, 'Class 1': -4.076798449009463, 'Class 2': 0.9944052115653959, 'Class 3': 4.1682906435652, 'Pub': 2.1353538106518783, 'Pass': 10.0, 'Sleep': 0}\n",
      "Iteration 10: {'Facebook': -6.12475843989959, 'Class 1': -4.195765754511537, 'Class 2': 1.0011692633669442, 'Class 3': 4.1687273718346765, 'Pub': 2.1247467870253116, 'Pass': 10.0, 'Sleep': 0}\n",
      "Iteration 11: {'Facebook': -6.338673254224706, 'Class 1': -4.3056151294396905, 'Class 2': 1.0014837077209675, 'Class 3': 4.164908843329112, 'Pub': 2.105924952860507, 'Pass': 10.0, 'Sleep': 0}\n",
      "Iteration 12: {'Facebook': -6.521830697571584, 'Class 1': -4.401735295926683, 'Class 2': 0.9987343671969606, 'Class 3': 4.158132983029783, 'Pub': 2.0848905950788845, 'Pass': 10.0, 'Sleep': 0}\n",
      "Iteration 13: {'Facebook': -6.678839041666385, 'Class 1': -4.48539334866858, 'Class 2': 0.9938557477814438, 'Class 3': 4.150560614228399, 'Pub': 2.064159892814825, 'Pass': 10.0, 'Sleep': 0}\n",
      "Iteration 14: {'Facebook': -6.813545025129945, 'Class 1': -4.5582424822482235, 'Class 2': 0.9884036422444478, 'Class 3': 4.143097561413337, 'Pub': 2.0446190875631993, 'Pass': 10.0, 'Sleep': 0}\n",
      "Iteration 15: {'Facebook': -6.929213293757596, 'Class 1': -4.621313622298474, 'Class 2': 0.9830302442176029, 'Class 3': 4.136062871522752, 'Pub': 2.0268567865121225, 'Pass': 10.0, 'Sleep': 0}\n",
      "Iteration 16: {'Facebook': -7.0285809939505155, 'Class 1': -4.675782372292996, 'Class 2': 0.9779652674963817, 'Class 3': 4.129668443144364, 'Pub': 2.0110370696528026, 'Pass': 10.0, 'Sleep': 0}\n",
      "Iteration 17: {'Facebook': -7.1139710186062874, 'Class 1': -4.722777076904361, 'Class 2': 0.9733612790639428, 'Class 3': 4.12397334507501, 'Pub': 1.9971073088179296, 'Pass': 10.0, 'Sleep': 0}\n",
      "Iteration 18: {'Facebook': -7.187366461992486, 'Class 1': -4.763274382794055, 'Class 2': 0.9692608084540071, 'Class 3': 4.118958631174455, 'Pub': 1.9849405908472382, 'Pass': 10.0, 'Sleep': 0}\n",
      "Iteration 19: {'Facebook': -7.250461528665379, 'Class 1': -4.798147544092315, 'Class 2': 0.9656502144456081, 'Class 3': 4.114578612705007, 'Pub': 1.9743696093633165, 'Pass': 10.0, 'Sleep': 0}\n",
      "Iteration 20: {'Facebook': -7.304707117187265, 'Class 1': -4.828165091398897, 'Class 2': 0.9624966011476048, 'Class 3': 4.110773059370794, 'Pub': 1.9652158198376046, 'Pass': 10.0, 'Sleep': 0}\n",
      "Iteration 21: {'Facebook': -7.351347623147586, 'Class 1': -4.853994732217847, 'Class 2': 0.9597566027469715, 'Class 3': 4.1074776951415375, 'Pub': 1.957307361334822, 'Pass': 10.0, 'Sleep': 0}\n",
      "Iteration 22: {'Facebook': -7.39145110064915, 'Class 1': -4.876215959180277, 'Class 2': 0.9573839405019071, 'Class 3': 4.104630650080535, 'Pub': 1.9504852954406506, 'Pass': 10.0, 'Sleep': 0}\n",
      "Iteration 23: {'Facebook': -7.4259348278520365, 'Class 1': -4.89533022206626, 'Class 2': 0.9553340680579856, 'Class 3': 4.1021747063586345, 'Pub': 1.9446063799572297, 'Pass': 10.0, 'Sleep': 0}\n",
      "Iteration 24: {'Facebook': -7.455586930546113, 'Class 1': -4.911770341907323, 'Class 2': 0.9535657885782167, 'Class 3': 4.100058296784603, 'Pub': 1.9395437188180562, 'Pass': 10.0, 'Sleep': 0}\n",
      "Iteration 25: {'Facebook': -7.481084744514011, 'Class 1': -4.9259095138855535, 'Class 2': 0.9520419736849144, 'Class 3': 4.0982357387745, 'Pub': 1.9351860091872972, 'Pass': 10.0, 'Sleep': 0}\n",
      "Iteration 26: {'Facebook': -7.50301049930605, 'Class 1': -4.938069246873093, 'Class 2': 0.9507297319176407, 'Class 3': 4.0966669633074275, 'Pub': 1.9314362639859897, 'Pass': 10.0, 'Sleep': 0}\n",
      "Iteration 27: {'Facebook': -7.521864736656479, 'Class 1': -4.948526345324784, 'Class 2': 0.9496002135813479, 'Class 3': 4.095317055034957, 'Pub': 1.9282103458438677, 'Pass': 10.0, 'Sleep': 0}\n",
      "Iteration 28: {'Facebook': -7.5380778077709785, 'Class 1': -4.957519035383809, 'Class 2': 0.948628279625169, 'Class 3': 4.094155724503793, 'Pub': 1.9254354745434088, 'Pass': 10.0, 'Sleep': 0}\n",
      "Iteration 29: {'Facebook': -7.5520197374790365, 'Class 1': -4.965252287665614, 'Class 2': 0.9477921216427312, 'Class 3': 4.093156770835627, 'Pub': 1.9230488151173408, 'Pass': 10.0, 'Sleep': 0}\n",
      "Iteration 30: {'Facebook': -7.564008693247925, 'Class 1': -4.971902427126338, 'Class 2': 0.9470728750016515, 'Class 3': 4.092297573442242, 'Pub': 1.9209961895123984, 'Pass': 10.0, 'Sleep': 0}\n",
      "Iteration 31: {'Facebook': -7.574318259972189, 'Class 1': -4.977621118210823, 'Class 2': 0.9464542528784148, 'Class 3': 4.091558628224464, 'Pub': 1.9192309245570613, 'Pass': 10.0, 'Sleep': 0}\n",
      "Iteration 32: {'Facebook': -7.583183691216448, 'Class 1': -4.982538803192199, 'Class 2': 0.945922212321614, 'Class 3': 4.090923132840543, 'Pub': 1.917712835919088, 'Pass': 10.0, 'Sleep': 0}\n",
      "Iteration 33: {'Facebook': -7.590807282172621, 'Class 1': -4.986767665502676, 'Class 2': 0.9454646556451913, 'Class 3': 4.090376620930872, 'Pub': 1.9164073396837806, 'Pass': 10.0, 'Sleep': 0}\n",
      "Iteration 34: {'Facebook': -7.597362988455064, 'Class 1': -4.990404181937343, 'Class 2': 0.9450711670702283, 'Class 3': 4.089906642286161, 'Pub': 1.9152846797769012, 'Pass': 10.0, 'Sleep': 0}\n",
      "Iteration 35: {'Facebook': -7.603000397022964, 'Class 1': -4.993531319623177, 'Class 2': 0.9447327824460361, 'Class 3': 4.089502484719684, 'Pub': 1.9143192586195785, 'Pass': 10.0, 'Sleep': 0}\n",
      "Iteration 36: {'Facebook': -7.607848140354687, 'Class 1': -4.996220426559617, 'Class 2': 0.9444417889981733, 'Class 3': 4.089154933103049, 'Pub': 1.9134890586474878, 'Pass': 10.0, 'Sleep': 0}\n",
      "Iteration 37: {'Facebook': -7.612016832077662, 'Class 1': -4.998532858110432, 'Class 2': 0.9441915518341952, 'Class 3': 4.088856061113096, 'Pub': 1.912775143175709, 'Pass': 10.0, 'Sleep': 0}\n",
      "Iteration 38: {'Facebook': -7.615601591212846, 'Class 1': -5.00052137610956, 'Class 2': 0.9439763640014291, 'Class 3': 4.088599051543255, 'Pub': 1.9121612262011471, 'Pass': 10.0, 'Sleep': 0}\n",
      "Iteration 39: {'Facebook': -7.618684212732266, 'Class 1': -5.002231352245138, 'Class 2': 0.9437913171111441, 'Class 3': 4.088378041432414, 'Pub': 1.9116333018963658, 'Pass': 10.0, 'Sleep': 0}\n",
      "Iteration 40: {'Facebook': -7.621335034015197, 'Class 1': -5.0037018030295055, 'Class 2': 0.9436321898313382, 'Class 3': 4.088187988682692, 'Pub': 1.9111793256715561, 'Pass': 10.0, 'Sleep': 0}\n",
      "Iteration 41: {'Facebook': -7.623614539824965, 'Class 1': -5.004966279882737, 'Class 2': 0.9434953518515385, 'Class 3': 4.088024557241761, 'Pub': 1.91078893971974, 'Pass': 10.0, 'Sleep': 0}\n",
      "Iteration 42: {'Facebook': -7.625574742447668, 'Class 1': -5.006053634588042, 'Class 2': 0.9433776812140682, 'Class 3': 4.087884018299107, 'Pub': 1.9104532368946954, 'Pass': 10.0, 'Sleep': 0}\n",
      "Iteration 43: {'Facebook': -7.627260368495536, 'Class 1': -5.00698867755512, 'Class 2': 0.9432764931753574, 'Class 3': 4.087763165282091, 'Pub': 1.9101645575988955, 'Pass': 10.0, 'Sleep': 0}\n",
      "Iteration 44: {'Facebook': -7.628709879461345, 'Class 1': -5.007792743894081, 'Class 2': 0.9431894790031059, 'Class 3': 4.087659240735603, 'Pub': 1.9099163150847596, 'Pass': 10.0, 'Sleep': 0}\n",
      "Iteration 45: {'Facebook': -7.629956349314157, 'Class 1': -5.008484180206208, 'Class 2': 0.9431146533296348, 'Class 3': 4.087569873430514, 'Pub': 1.9097028452050009, 'Pass': 10.0, 'Sleep': 0}\n",
      "Iteration 46: {'Facebook': -7.631028219163026, 'Class 1': -5.009078763193035, 'Class 2': 0.9430503088699704, 'Class 3': 4.087493024273801, 'Pub': 1.9095192771965361, 'Pass': 10.0, 'Sleep': 0}\n",
      "Iteration 47: {'Facebook': -7.631949946209424, 'Class 1': -5.009590059631875, 'Class 2': 0.9429949774771367, 'Class 3': 4.087426939790753, 'Pub': 1.9093614225570117, 'Pass': 10.0, 'Sleep': 0}\n",
      "Iteration 48: {'Facebook': -7.632742561796502, 'Class 1': -5.01002973592953, 'Class 2': 0.9429473966493429, 'Class 3': 4.087370112120524, 'Pub': 1.9092256794827032, 'Pass': 10.0, 'Sleep': 0}\n",
      "Iteration 49: {'Facebook': -7.633424151288825, 'Class 1': -5.010407824316221, 'Class 2': 0.9429064807267777, 'Class 3': 4.087321244613773, 'Pub': 1.9091089506898369, 'Pass': 10.0, 'Sleep': 0}\n",
      "Iteration 50: {'Facebook': -7.634010266732409, 'Class 1': -5.010732951752921, 'Class 2': 0.9428712961219166, 'Class 3': 4.087279222248341, 'Pub': 1.9090085727456785, 'Pass': 10.0, 'Sleep': 0}\n",
      "Iteration 51: {'Facebook': -7.634514281711014, 'Class 1': -5.011012536774722, 'Class 2': 0.9428410400188056, 'Class 3': 4.087243086188445, 'Pub': 1.908922255297767, 'Pass': 10.0, 'Sleep': 0}\n",
      "Iteration 52: {'Facebook': -7.634947696495646, 'Class 1': -5.011252958761494, 'Class 2': 0.9428150220556804, 'Class 3': 4.087212011907196, 'Pub': 1.9088480288151604, 'Pass': 10.0, 'Sleep': 0}\n",
      "Iteration 53: {'Facebook': -7.635320400450008, 'Class 1': -5.011459703497985, 'Class 2': 0.9427926485731817, 'Class 3': 4.087185290373458, 'Pub': 1.9087841996495667, 'Pass': 10.0, 'Sleep': 0}\n",
      "Iteration 54: {'Facebook': -7.635640897679325, 'Class 1': -5.011637488344572, 'Class 2': 0.9427734090688897, 'Class 3': 4.087162311873844, 'Pub': 1.908729311391153, 'Pass': 10.0, 'Sleep': 0}\n",
      "Iteration 55: {'Facebook': -7.635916501071265, 'Class 1': -5.011790369874696, 'Class 2': 0.942756864549168, 'Class 3': 4.087142552100815, 'Pub': 1.9086821116373613, 'Pass': 10.0, 'Sleep': 0}\n",
      "Iteration 56: {'Facebook': -7.636153499156448, 'Class 1': -5.011921836434944, 'Class 2': 0.9427426375125871, 'Class 3': 4.08712556018945, 'Pub': 1.9086415234165488, 'Pass': 10.0, 'Sleep': 0}\n",
      "Iteration 57: {'Facebook': -7.636357299595868, 'Class 1': -5.012034887739738, 'Class 2': 0.9427304033364043, 'Class 3': 4.087110948429958, 'Pub': 1.9086066206144436, 'Pass': 10.0, 'Sleep': 0}\n",
      "Iteration 58: {'Facebook': -7.636532552569229, 'Class 1': -5.012132103316759, 'Class 2': 0.9427198828695698, 'Class 3': 4.0870983834212, 'Pub': 1.9085766068427374, 'Pass': 10.0, 'Sleep': 0}\n",
      "Iteration 59: {'Facebook': -7.636683256879584, 'Class 1': -5.0122157013648465, 'Class 2': 0.9427108360632639, 'Class 3': 4.087087578463386, 'Pub': 1.9085507972676605, 'Pass': 10.0, 'Sleep': 0}\n",
      "Iteration 60: {'Facebook': -7.636812851195299, 'Class 1': -5.012287589367344, 'Class 2': 0.9427030564936385, 'Class 3': 4.087078287016358, 'Pub': 1.9085286029839217, 'Pass': 10.0, 'Sleep': 0}\n",
      "Iteration 61: {'Facebook': -7.636924292511253, 'Class 1': -5.012349407615748, 'Class 2': 0.942696366651778, 'Class 3': 4.087070297074212, 'Pub': 1.9085095175774769, 'Pass': 10.0, 'Sleep': 0}\n",
      "Iteration 62: {'Facebook': -7.637020123619532, 'Class 1': -5.012402566636764, 'Class 2': 0.9426906138934328, 'Class 3': 4.087063426327892, 'Pub': 1.9084931055705219, 'Pass': 10.0, 'Sleep': 0}\n",
      "Iteration 63: {'Facebook': -7.6371025311291305, 'Class 1': -5.012448279376745, 'Class 2': 0.9426856669560824, 'Class 3': 4.087057518005388, 'Pub': 1.9084789924850594, 'Pass': 10.0, 'Sleep': 0}\n",
      "Iteration 64: {'Facebook': -7.637173395358504, 'Class 1': -5.012487588877872, 'Class 2': 0.9426814129638794, 'Class 3': 4.087052437294621, 'Pub': 1.9084668562983151, 'Pass': 10.0, 'Sleep': 0}\n",
      "Iteration 65: {'Facebook': -7.637234333239397, 'Class 1': -5.012521392077581, 'Class 2': 0.9426777548521272, 'Class 3': 4.087048068267394, 'Pub': 1.9084564200950433, 'Pass': 10.0, 'Sleep': 0}\n",
      "Iteration 66: {'Facebook': -7.637286735210894, 'Class 1': -5.012550460274271, 'Class 2': 0.9426746091525238, 'Class 3': 4.087044311234216, 'Pub': 1.9084474457490632, 'Pass': 10.0, 'Sleep': 0}\n",
      "Iteration 67: {'Facebook': -7.637331796945509, 'Class 1': -5.012575456726267, 'Class 2': 0.9426719040886353, 'Class 3': 4.087041080469663, 'Pub': 1.9084397284898575, 'Pass': 10.0, 'Sleep': 0}\n",
      "Iteration 68: {'Facebook': -7.637370546631227, 'Class 1': -5.012596951785594, 'Class 2': 0.9426695779381578, 'Class 3': 4.087038302256349, 'Pub': 1.9084330922302595, 'Pass': 10.0, 'Sleep': 0}\n",
      "Iteration 69: {'Facebook': -7.637403868431997, 'Class 1': -5.012615435911881, 'Class 2': 0.9426675776245714, 'Class 3': 4.087035913202894, 'Pub': 1.9084273855486154, 'Pass': 10.0, 'Sleep': 0}\n",
      "Iteration 70: {'Facebook': -7.637432522661988, 'Class 1': -5.012631330863342, 'Class 2': 0.9426658575060842, 'Class 3': 4.087033858797502, 'Pub': 1.9084224782337489, 'Pass': 10.0, 'Sleep': 0}\n",
      "Iteration 71: {'Facebook': -7.63745716313391, 'Class 1': -5.012644999320157, 'Class 2': 0.9426643783342019, 'Class 3': 4.08703209216415, 'Pub': 1.9084182583138896, 'Pass': 10.0, 'Sleep': 0}\n",
      "Iteration 72: {'Facebook': -7.637478352077282, 'Class 1': -5.0126567531598685, 'Class 2': 0.9426631063581881, 'Class 3': 4.087030572993, 'Pub': 1.9084146295017785, 'Pass': 10.0, 'Sleep': 0}\n",
      "Iteration 73: {'Facebook': -7.637496572966986, 'Class 1': -5.012666860573592, 'Class 2': 0.9426620125549601, 'Class 3': 4.0870292666206405, 'Pub': 1.9084115089976514, 'Pass': 10.0, 'Sleep': 0}\n",
      "Iteration 74: {'Facebook': -7.637512241554883, 'Class 1': -5.012675552185412, 'Class 2': 0.9426610719668616, 'Class 3': 4.087028143239155, 'Pub': 1.9084088255999698, 'Pass': 10.0, 'Sleep': 0}\n",
      "Iteration 75: {'Facebook': -7.637525715356142, 'Class 1': -5.01268302631461, 'Class 2': 0.9426602631321921, 'Class 3': 4.087027177215989, 'Pub': 1.9084065180807919, 'Pass': 10.0, 'Sleep': 0}\n",
      "Iteration 76: {'Facebook': -7.637537301806791, 'Class 1': -5.012689453500778, 'Class 2': 0.9426595675955123, 'Class 3': 4.087026346509085, 'Pub': 1.9084045337887154, 'Pass': 10.0, 'Sleep': 0}\n",
      "Iteration 77: {'Facebook': -7.637547265278571, 'Class 1': -5.012694980395075, 'Class 2': 0.9426589694865415, 'Class 3': 4.087025632163938, 'Pub': 1.908402827447515, 'Pass': 10.0, 'Sleep': 0}\n",
      "Iteration 78: {'Facebook': -7.6375558331111995, 'Class 1': -5.012699733106413, 'Class 2': 0.9426584551580355, 'Class 3': 4.087025017881105, 'Pub': 1.9084013601230594, 'Pass': 10.0, 'Sleep': 0}\n",
      "Iteration 79: {'Facebook': -7.637563200799649, 'Class 1': -5.012703820078924, 'Class 2': 0.942658012874396, 'Class 3': 4.0870244896443015, 'Pub': 1.908400098334936, 'Pass': 10.0, 'Sleep': 0}\n",
      "Iteration 80: {'Facebook': -7.637569536454819, 'Class 1': -5.012707334566364, 'Class 2': 0.9426576325438973, 'Class 3': 4.087024035400577, 'Pub': 1.908399013292525, 'Pass': 10.0, 'Sleep': 0}\n",
      "Iteration 81: {'Facebook': -7.637574984639377, 'Class 1': -5.012710356759915, 'Class 2': 0.9426573054884155, 'Class 3': 4.087023644785309, 'Pub': 1.9083980802380651, 'Pass': 10.0, 'Sleep': 0}\n",
      "Iteration 82: {'Facebook': -7.637579669666288, 'Class 1': -5.012712955617933, 'Class 2': 0.9426570242454226, 'Class 3': 4.087023308885704, 'Pub': 1.9083972778817562, 'Pass': 10.0, 'Sleep': 0}\n",
      "Iteration 83: {'Facebook': -7.637583698435307, 'Class 1': -5.01271519043939, 'Class 2': 0.9426567823977074, 'Class 3': 4.0870230200374325, 'Pub': 1.9083965879159779, 'Pass': 10.0, 'Sleep': 0}\n",
      "Iteration 84: {'Facebook': -7.637587162872144, 'Class 1': -5.0127171122169205, 'Class 2': 0.9426565744269513, 'Class 3': 4.087022771649752, 'Pub': 1.9083959945975602, 'Pass': 10.0, 'Sleep': 0}\n",
      "Iteration 85: {'Facebook': -7.637590142025959, 'Class 1': -5.012718764800336, 'Class 2': 0.942656395587822, 'Class 3': 4.087022558055122, 'Pub': 1.9083954843885675, 'Pass': 10.0, 'Sleep': 0}\n",
      "Iteration 86: {'Facebook': -7.637592703873057, 'Class 1': -5.0127201858971615, 'Class 2': 0.9426562417996882, 'Class 3': 4.087022374379885, 'Pub': 1.9083950456473993, 'Pass': 10.0, 'Sleep': 0}\n",
      "Iteration 87: {'Facebook': -7.637594906867921, 'Class 1': -5.012721407933016, 'Class 2': 0.9426561095535173, 'Class 3': 4.087022216433064, 'Pub': 1.9083946683631572, 'Pass': 10.0, 'Sleep': 0}\n",
      "Iteration 88: {'Facebook': -7.637596801276988, 'Class 1': -5.012722458791481, 'Class 2': 0.9426559958318061, 'Class 3': 4.087022080610737, 'Pub': 1.9083943439272264, 'Pass': 10.0, 'Sleep': 0}\n",
      "Iteration 89: {'Facebook': -7.637598430325594, 'Class 1': -5.012723362450332, 'Class 2': 0.9426558980397308, 'Class 3': 4.087021963813802, 'Pub': 1.908394064936849, 'Pass': 10.0, 'Sleep': 0}\n",
      "Iteration 90: {'Facebook': -7.637599831184261, 'Class 1': -5.012724139528639, 'Class 2': 0.9426558139459376, 'Class 3': 4.087021863377266, 'Pub': 1.9083938250262122, 'Pass': 10.0, 'Sleep': 0}\n",
      "Iteration 91: {'Facebook': -7.637601035816829, 'Class 1': -5.0127248077572455, 'Class 2': 0.9426557416316315, 'Class 3': 4.087021777009436, 'Pub': 1.908393618721198, 'Pass': 10.0, 'Sleep': 0}\n",
      "Iteration 92: {'Facebook': -7.637602071709784, 'Class 1': -5.012725382383339, 'Class 2': 0.9426556794467942, 'Class 3': 4.087021702739632, 'Pub': 1.9083934413144803, 'Pass': 10.0, 'Sleep': 0}\n",
      "Iteration 93: {'Facebook': -7.637602962499426, 'Class 1': -5.012725876518346, 'Class 2': 0.9426556259725354, 'Class 3': 4.087021638873213, 'Pub': 1.9083932887581123, 'Pass': 10.0, 'Sleep': 0}\n",
      "\n",
      "Final V:\n",
      "V(Facebook) = -7.637602962499426\n",
      "V(Class 1) = -5.012725876518346\n",
      "V(Class 2) = 0.9426556259725354\n",
      "V(Class 3) = 4.087021638873213\n",
      "V(Pub) = 1.9083932887581123\n",
      "V(Pass) = 10.0\n",
      "V(Sleep) = 0\n",
      "\n",
      "Total iterations: 93\n"
     ]
    }
   ],
   "execution_count": 7
  }
 ],
 "metadata": {
  "kernelspec": {
   "display_name": "Python 3",
   "language": "python",
   "name": "python3"
  },
  "language_info": {
   "codemirror_mode": {
    "name": "ipython",
    "version": 2
   },
   "file_extension": ".py",
   "mimetype": "text/x-python",
   "name": "python",
   "nbconvert_exporter": "python",
   "pygments_lexer": "ipython2",
   "version": "2.7.6"
  }
 },
 "nbformat": 4,
 "nbformat_minor": 5
}
